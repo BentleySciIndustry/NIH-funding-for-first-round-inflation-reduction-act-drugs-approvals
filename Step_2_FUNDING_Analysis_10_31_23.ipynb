{
 "cells": [
  {
   "cell_type": "code",
   "execution_count": 28,
   "id": "cc957cd0-df48-4106-ad01-85d0de724a26",
   "metadata": {},
   "outputs": [],
   "source": [
    "####### 10/30/23 last update by ED ###################\n",
    "#### NOTE:  This assumes you ran Step 1 first\n",
    "#### NOTE:  This is only used if you want to breakdown output by drug (this will re-add all cross search duplicates = TargetOnly/Drug true by unique brandname only)\n",
    "                # Remember with this applied and basic unique totals no longer exist if cross-search TargetOnly/Drug mismatch for any shared PMID\n",
    "\n",
    "import pandas as pd\n",
    "import numpy as np\n",
    "import os\n",
    "\n",
    "Grant_code=pd.read_csv('new_data/resultUQ_FULL.csv')\n",
    "Search_Year=pd.read_csv('new_data/Search_ID_Years.csv')\n",
    "BRAND_ID=pd.read_csv('search_term_inputs/BrandName_Linker.csv')\n",
    "\n",
    "ID_CORE_Total_Drug=pd.read_csv('new_data/P_B_Drug.csv')\n",
    "ID_CORE_Total_Target=pd.read_csv('new_data/P_B_Target.csv')\n",
    "ID_CORE_Total_Target = ID_CORE_Total_Target[(ID_CORE_Total_Target != 0).all(axis=1)]\n",
    "ID_CORE_Total_Drug = ID_CORE_Total_Drug[(ID_CORE_Total_Drug != 0).all(axis=1)]\n",
    "ID_CORE_Total_Drug = ID_CORE_Total_Drug.rename(columns={'SearchID': 'Search_ID'})\n",
    "ID_CORE_Total_Target = ID_CORE_Total_Target.rename(columns={'SearchID': 'Search_ID'})\n",
    "\n",
    "Search_Year = Search_Year.rename(columns={'SearchID': 'Search_ID'})\n",
    "\n",
    "BRAND_ID = BRAND_ID.rename(columns={'SearchID': 'Search_ID'})"
   ]
  },
  {
   "cell_type": "code",
   "execution_count": 30,
   "id": "04873395-30b7-4339-bc48-109142fde17f",
   "metadata": {},
   "outputs": [],
   "source": [
    "PMID_DOWNLOADED_COUNT_Drug=ID_CORE_Total_Drug[['PMID','Search_ID','TIME_CUT']]\n",
    "PMID_DOWNLOADED_COUNT_Drug=PMID_DOWNLOADED_COUNT_Drug.drop_duplicates()\n",
    "PMID_DOWNLOADED_COUNT_Target=ID_CORE_Total_Target[['PMID','Search_ID','TIME_CUT']]\n",
    "ID_CORE_Total_Target=ID_CORE_Total_Target.drop_duplicates()\n",
    "\n",
    "PMID_DOWNLOADED_COUNT=pd.concat([PMID_DOWNLOADED_COUNT_Drug,PMID_DOWNLOADED_COUNT_Target])"
   ]
  },
  {
   "cell_type": "code",
   "execution_count": 31,
   "id": "3fe8f1ca-2907-424a-8813-4413cf5d29ca",
   "metadata": {},
   "outputs": [],
   "source": [
    "PMID_DOWNLOADED_Analysis = PMID_DOWNLOADED_COUNT.groupby('Search_ID')['PMID'].nunique().reset_index()\n",
    "PMID_DOWNLOADED_Analysis.columns = ['Search_ID', 'PMID_Downloaded']"
   ]
  },
  {
   "cell_type": "code",
   "execution_count": 32,
   "id": "275711f4-dcc2-41c6-a5f5-e658a30b30fd",
   "metadata": {},
   "outputs": [],
   "source": [
    "BRAND_ID['Search_ID']=BRAND_ID['Search_ID'].astype(str)\n",
    "PMID_DOWNLOADED_Analysis['Search_ID']=PMID_DOWNLOADED_Analysis['Search_ID'].astype(str)"
   ]
  },
  {
   "cell_type": "code",
   "execution_count": 33,
   "id": "cd631b6b-5c3b-4fd6-a11c-37aa1e30f1af",
   "metadata": {},
   "outputs": [],
   "source": [
    "def check_for_drug(x):\n",
    "    if 'drug' in x.lower():\n",
    "        return 'Drug'\n",
    "    else:\n",
    "        return 'TargetOnly'\n",
    "PMID_DOWNLOADED_Analysis=PMID_DOWNLOADED_Analysis.merge(BRAND_ID, how='outer')\n",
    "PMID_DOWNLOADED_Analysis['Data_Type_by_Drug'] = PMID_DOWNLOADED_Analysis['Search_ID'].apply(check_for_drug)\n",
    "PMID_DOWNLOADED_Analysis=PMID_DOWNLOADED_Analysis[['Brand_Name','Data_Type_by_Drug','PMID_Downloaded']]"
   ]
  },
  {
   "cell_type": "code",
   "execution_count": 35,
   "id": "304809a5-50e0-4db4-a751-1faae65c224a",
   "metadata": {},
   "outputs": [],
   "source": [
    "ID_CORE_Total_Drug=ID_CORE_Total_Drug[['PMID','Search_ID']]\n",
    "ID_CORE_Total_Drug=ID_CORE_Total_Drug.drop_duplicates()\n",
    "\n",
    "\n",
    "ID_CORE_Total_Target=ID_CORE_Total_Target[['PMID','Search_ID']]\n",
    "ID_CORE_Total_Target=ID_CORE_Total_Target.drop_duplicates()"
   ]
  },
  {
   "cell_type": "code",
   "execution_count": 36,
   "id": "9288358f-2ba5-44e2-9503-fe34082db36a",
   "metadata": {},
   "outputs": [],
   "source": [
    "def remove_decimal_from_id(id_value):\n",
    "    try:\n",
    "        # Convert to float, then to int, then to string\n",
    "        return str(int(float(id_value)))\n",
    "    except ValueError:\n",
    "        # If it's not a number, just return the original string\n",
    "        return id_value\n",
    "ID_CORE_Total_Drug['Search_ID'] = ID_CORE_Total_Drug['Search_ID'].apply(remove_decimal_from_id)\n",
    "ID_CORE_Total_Target['Search_ID'] = ID_CORE_Total_Target['Search_ID'].apply(remove_decimal_from_id)\n",
    "Search_Year['Search_ID'] = Search_Year['Search_ID'].apply(remove_decimal_from_id)"
   ]
  },
  {
   "cell_type": "code",
   "execution_count": 37,
   "id": "c1b46616-04a4-4480-8bd0-92f23e4714ee",
   "metadata": {},
   "outputs": [
    {
     "data": {
      "text/plain": [
       "14463"
      ]
     },
     "execution_count": 37,
     "metadata": {},
     "output_type": "execute_result"
    }
   ],
   "source": [
    "Grant_code_drug=ID_CORE_Total_Drug.merge(Grant_code,how='inner')\n",
    "Grant_code_Target=ID_CORE_Total_Target.merge(Grant_code,how='inner')\n",
    "Grant_code=Grant_code_Target.merge(Grant_code_drug,how='outer')\n",
    "Grant_code=Grant_code.merge(Search_Year,how='outer')\n",
    "Grant_code=Grant_code.drop_duplicates()\n",
    "\n",
    "Grant_code['PMID'].nunique()"
   ]
  },
  {
   "cell_type": "code",
   "execution_count": 38,
   "id": "42f98b03-f352-4c1b-8431-a048e7a10d6c",
   "metadata": {},
   "outputs": [],
   "source": [
    "Grant_code = Grant_code[Grant_code['Search_ID'] != \"237\"]"
   ]
  },
  {
   "cell_type": "code",
   "execution_count": 39,
   "id": "f433bfee-c68c-451e-a447-420b77a9e22c",
   "metadata": {},
   "outputs": [],
   "source": [
    "Grant_code.drop('Search__ID', axis=1, inplace=True)\n",
    "Grant_code.drop('Source_Search_Type', axis=1, inplace=True)\n",
    "Grant_code.drop('Search_Type', axis=1, inplace=True)"
   ]
  },
  {
   "cell_type": "code",
   "execution_count": 40,
   "id": "c9388327-4103-403e-86c4-0087add060c7",
   "metadata": {},
   "outputs": [],
   "source": [
    "################ UQ_COMBO (PMID|Brand) Maker\n",
    "BRAND_ID['Search_ID'] = BRAND_ID['Search_ID'].apply(remove_decimal_from_id)\n",
    "Grant_code=Grant_code.merge(BRAND_ID, how='outer')\n",
    "Grant_code['PMID'] = Grant_code['PMID'].apply(remove_decimal_from_id)\n",
    "#Grant_code['UQ_COMBO']=Grant_code['PMID'].astype(str)+\"|\"+Grant_code['Brand_Name']\n",
    "\n",
    "Grant_code['UQ_COMBO_APY']=Grant_code['ACTUAL_PROJECT_YEAR'].astype(str)+\"|\"+Grant_code['Brand_Name']"
   ]
  },
  {
   "cell_type": "code",
   "execution_count": 41,
   "id": "d0f0b132-f96f-42c9-968f-2a0327181b83",
   "metadata": {},
   "outputs": [],
   "source": [
    "################ UQ_COMBO (PMID|Brand) Maker\n",
    "BRAND_ID['Search_ID'] = BRAND_ID['Search_ID'].apply(remove_decimal_from_id)\n",
    "Grant_code=Grant_code.merge(BRAND_ID, how='outer')\n",
    "Grant_code['PMID'] = Grant_code['PMID'].apply(remove_decimal_from_id)\n",
    "#Grant_code['UQ_COMBO']=Grant_code['PMID'].astype(str)+\"|\"+Grant_code['Brand_Name']\n",
    "\n",
    "Grant_code['UQ_COMBO_PMID']=Grant_code['PMID'].astype(str)+\"|\"+Grant_code['Brand_Name']"
   ]
  },
  {
   "cell_type": "code",
   "execution_count": 42,
   "id": "02046771-7588-4369-a6c4-ac814082656c",
   "metadata": {},
   "outputs": [],
   "source": [
    "def COMBO_Linker(search_id):\n",
    "    if 'drug' in search_id:\n",
    "        return 'Drug'\n",
    "    elif search_id.isdigit():\n",
    "        return 'TargetOnly'\n",
    "    else:\n",
    "        return 'Error'\n",
    "\n",
    "Grant_code['Data_Type_by_Drug'] = Grant_code['Search_ID'].apply(COMBO_Linker)\n",
    "\n",
    "# Identify UQ_COMBO values which have at least one Drug\n",
    "uq_combo_with_drug = Grant_code[Grant_code['Data_Type_by_Drug'] == 'Drug']['UQ_COMBO_APY'].unique()\n",
    "\n",
    "# Update rows with those UQ_COMBO values to \"Drug\"\n",
    "Grant_code.loc[Grant_code['UQ_COMBO_APY'].isin(uq_combo_with_drug), 'Data_Type_by_Drug'] = 'Drug'"
   ]
  },
  {
   "cell_type": "code",
   "execution_count": 43,
   "id": "358ccb20-2571-43c8-a09b-7544c5d1f703",
   "metadata": {},
   "outputs": [],
   "source": [
    "# Identify UQ_COMBO APY values which have at least one Drug\n",
    "Grant_code['Data_Type_by_APY'] = Grant_code['Search_ID'].apply(COMBO_Linker)\n",
    "uq_combo_with_drug = Grant_code[Grant_code['Data_Type_by_APY'] == 'Drug']['ACTUAL_PROJECT_YEAR'].unique()\n",
    "\n",
    "# Update rows with those UQ_COMBO values to \"Drug\"\n",
    "Grant_code.loc[Grant_code['ACTUAL_PROJECT_YEAR'].isin(uq_combo_with_drug), 'Data_Type_by_APY'] = 'Drug'"
   ]
  },
  {
   "cell_type": "code",
   "execution_count": 44,
   "id": "4b7fe9e7-2f72-49eb-be2b-89ca2645f7da",
   "metadata": {},
   "outputs": [],
   "source": [
    "# Identify UQ_COMBO PMID values which have at least one Drug\n",
    "Grant_code['Data_Type_by_PMID'] = Grant_code['Search_ID'].apply(COMBO_Linker)\n",
    "uq_combo_with_drug = Grant_code[Grant_code['Data_Type_by_PMID'] == 'Drug']['UQ_COMBO_PMID'].unique()\n",
    "\n",
    "# Update rows with those UQ_COMBO values to \"Drug\"\n",
    "Grant_code.loc[Grant_code['UQ_COMBO_PMID'].isin(uq_combo_with_drug), 'Data_Type_by_PMID'] = 'Drug'"
   ]
  },
  {
   "cell_type": "code",
   "execution_count": 45,
   "id": "93867c8e-ed1b-4120-9bb3-4138f959f324",
   "metadata": {},
   "outputs": [],
   "source": [
    "Grant_code = Grant_code.dropna(subset=['PMID'])\n",
    "Grant_code = Grant_code[Grant_code['PMID'].ne('') & Grant_code['PMID'].ne(0)]"
   ]
  },
  {
   "cell_type": "code",
   "execution_count": 46,
   "id": "5708e112-6cfc-4aa1-a40d-077a04e09cc1",
   "metadata": {},
   "outputs": [],
   "source": [
    "####### TIME CUT +1 Year Correction (adjust for download year offset back to True approval cut year)\n",
    "Grant_code.rename(columns={'TIME_CUT': 'TIME_CUT(Download_Used)'}, inplace=True)\n",
    "Grant_code['TIME_CUT']=Grant_code['TIME_CUT(Download_Used)'].astype(int) - 1\n",
    "\n",
    "Grant_code['TIME_CUT']=Grant_code['TIME_CUT'].apply(remove_decimal_from_id)\n",
    "\n",
    "Grant_code['TIME_CUT']=Grant_code['TIME_CUT'].astype(str)"
   ]
  },
  {
   "cell_type": "code",
   "execution_count": 47,
   "id": "73c4d958-1785-4cb8-97af-b45af7edfc38",
   "metadata": {},
   "outputs": [],
   "source": [
    "#### 2018USD inflation adjustment\n",
    "\n",
    "Grant_code.rename(columns = {\"APY\": \"FY\"}, \n",
    "          inplace = True)\n",
    "\n",
    "Grant_code.rename(columns = {\"APY_COST_inf2018\": \"Original_COST\"}, \n",
    "          inplace = True)\n",
    "\n",
    "Inflation_key_V2018 = pd.read_csv('function_data/inf2018_key.csv')\n",
    "core_set_2018=pd.merge(Grant_code,Inflation_key_V2018, how='outer')\n",
    "core_set_2018['APY_COST_inf2018']=core_set_2018['Original_COST']*core_set_2018['inf_2018']\n",
    "core_set_2018.drop('inf_2018', inplace=True, axis=1)\n",
    "\n",
    "Grant_code=core_set_2018\n",
    "\n",
    "Grant_code.rename(columns = {\"FY\": \"APY\"}, \n",
    "          inplace = True)"
   ]
  },
  {
   "cell_type": "code",
   "execution_count": 48,
   "id": "b286d040-d426-4f11-a5d8-ed606a3daa69",
   "metadata": {},
   "outputs": [],
   "source": [
    "Grant_code = Grant_code.dropna(subset=['PMID'])\n",
    "Grant_code = Grant_code[Grant_code['PMID'].ne('') & Grant_code['PMID'].ne(0)]"
   ]
  },
  {
   "cell_type": "code",
   "execution_count": 51,
   "id": "6eb99a6c-1b76-4eae-baba-750f5a8a97fb",
   "metadata": {},
   "outputs": [],
   "source": [
    "######## Time cut by PMID PubYear to approval year\n",
    "Grant_code['TIME_CUT_FIC'] = Grant_code['TIME_CUT']\n",
    "\n",
    "#### First in class for targets adjustment ( Use for Basic/Target search ID that have an earlier FIC drug approval as cut year )\n",
    "# Grant_code.loc[Grant_code['Search_ID'] == \"135\", 'TIME_CUT_FIC'] = \"2013\"\n",
    "# Grant_code.loc[Grant_code['Search_ID'] == \"63\", 'TIME_CUT_FIC'] = \"2011\"\n",
    "\n",
    "Grant_code['Years_from_app'] = Grant_code['APY'].astype(int) - Grant_code['TIME_CUT'].astype(int)\n",
    "Grant_code['Years_from_app_FIC_TARGET'] = Grant_code['APY'].astype(int) - Grant_code['TIME_CUT_FIC'].astype(int)\n",
    "\n",
    "Grant_code['FY_START_Years_from_app_FIC_TARGET'] = Grant_code['FY_Start'].astype(int) - Grant_code['TIME_CUT_FIC'].astype(int)\n",
    "\n",
    "\n",
    "Grant_code['Pre_Approval_APY'] = Grant_code['Years_from_app'] <= 0\n",
    "Grant_code['Pre_Approval_APY_FIC'] = Grant_code['Years_from_app_FIC_TARGET'] <= 0"
   ]
  },
  {
   "cell_type": "code",
   "execution_count": 52,
   "id": "dff06ba6-cafe-41f7-bf93-e4b0ab74e5b8",
   "metadata": {},
   "outputs": [],
   "source": [
    "#### Use for data from 4+ Years after approval (not part of main method)\n",
    "# Grant_code['4YEAR_RULE_1'] = Grant_code['Years_from_app_FIC_TARGET'].apply(lambda x: 1 if 4 >= x >= -12 else 0)\n",
    "# Grant_code['4YEAR_RULE_2'] = Grant_code['FY_START_Years_from_app_FIC_TARGET'].apply(lambda x: 1 if 0 >= x else 0)\n",
    "\n",
    "# Grant_code['APY_Start_PreApproval_4Year'] = np.where(Grant_code['4YEAR_RULE_1'] + Grant_code['4YEAR_RULE_2'] == 2, 1, 0)\n",
    "\n",
    "# Grant_code.drop('4YEAR_RULE_1', axis=1, inplace=True)\n",
    "# Grant_code.drop('4YEAR_RULE_2', axis=1, inplace=True)\n",
    "\n",
    "####  Last year of total costs change >2% per year for 10 Drug dataset, 9_12_23\n",
    "Grant_code['0_12_Year_Rule_FIC'] = Grant_code['Years_from_app_FIC_TARGET'].apply(lambda x: 1 if 0 >= x >= -12 else 0)\n",
    "Grant_code=Grant_code.fillna(0)\n",
    "Grant_code_output=Grant_code"
   ]
  },
  {
   "cell_type": "code",
   "execution_count": 53,
   "id": "3b1954c9-b793-4ddc-992a-6facdf4df008",
   "metadata": {},
   "outputs": [],
   "source": [
    "cols_order = [\"Brand_Name\", \n",
    "\"Search_ID\", \n",
    "\"PMID\", \n",
    "\"PUB_YEAR\", \n",
    "\"PROJECT_NUMBER\", \n",
    "\"FY_Start\", \n",
    "\"FY_Last\", \n",
    "\"APY\", \n",
    "\"ACTUAL_PROJECT_YEAR\", \n",
    "\"APY_COST_inf2018\", \n",
    "\"Original_COST\", \n",
    "\"Activity_Code\", \n",
    "\"Institute_Code\", \n",
    "\"Acronym_institute_name\", \n",
    "\"full_institute_name\", \n",
    "\"Compressed Names\", \n",
    "\"Project_Count\", \n",
    "\"Grant_Type_Name\", \n",
    "\"Data_Type_by_Drug\", \n",
    "\"Data_Type_by_APY\", \n",
    "\"Data_Type_by_PMID\", \n",
    "\"UQ_COMBO_APY\", \n",
    "\"UQ_COMBO_PMID\", \n",
    "\"TIME_CUT(Download_Used)\", \n",
    "\"TIME_CUT\", \n",
    "\"TIME_CUT_FIC\", \n",
    "\"Years_from_app\", \n",
    "\"Years_from_app_FIC_TARGET\", \n",
    "\"FY_START_Years_from_app_FIC_TARGET\", \n",
    "\"Pre_Approval_APY\", \n",
    "\"Pre_Approval_APY_FIC\", \n",
    "\"0_12_Year_Rule_FIC\"\n",
    "]\n",
    "Grant_code_output = Grant_code_output[cols_order]"
   ]
  },
  {
   "cell_type": "code",
   "execution_count": null,
   "id": "2b1d075f-772c-4a5a-bd51-5c680d1c54f0",
   "metadata": {},
   "outputs": [],
   "source": []
  },
  {
   "cell_type": "code",
   "execution_count": 54,
   "id": "e1c8f37b-31d6-480b-ad1c-99235ea438d8",
   "metadata": {},
   "outputs": [],
   "source": [
    "Grant_code_output.to_csv(\"IRA_10Drugs_Main_Output.csv\",index=None)"
   ]
  },
  {
   "cell_type": "code",
   "execution_count": 55,
   "id": "69b60fc8-1ff6-4990-a160-8fd8b9a87d49",
   "metadata": {},
   "outputs": [],
   "source": [
    "Grant_code['CC_ID']= Grant_code['Brand_Name']+\"_\"+Grant_code['Data_Type_by_Drug']+\"_\"+Grant_code['ACTUAL_PROJECT_YEAR']"
   ]
  },
  {
   "cell_type": "code",
   "execution_count": 56,
   "id": "c993b164-b898-4cc0-91da-d9485d86bc3c",
   "metadata": {},
   "outputs": [],
   "source": [
    "Grant_code_ID=Grant_code[['CC_ID','Data_Type_by_Drug','Brand_Name']]\n",
    "Grant_code_ID=Grant_code_ID.drop_duplicates()"
   ]
  },
  {
   "cell_type": "code",
   "execution_count": 57,
   "id": "b7845b2a-7e9d-4c9e-821d-daab88c78343",
   "metadata": {},
   "outputs": [],
   "source": [
    "def Applied_Basic_research_split(row):\n",
    "    if row['Data_Type_by_Drug'] == \"Drug\":\n",
    "        if isinstance(row['Search_ID'], (int, float)) and not pd.isna(row['Search_ID']):\n",
    "            return False  \n",
    "    return True\n",
    "\n",
    "Grant_code = Grant_code[Grant_code.apply(Applied_Basic_research_split, axis=1)]"
   ]
  },
  {
   "cell_type": "code",
   "execution_count": 58,
   "id": "2dd015e9-c03e-4f24-83ab-6f49b479ed76",
   "metadata": {},
   "outputs": [],
   "source": [
    "############ USE FOR FIC CC analysis only\n",
    "Grant_code_CC=Grant_code.copy()\n",
    "\n",
    "Grant_code_CC=Grant_code_CC[['CC_ID','APY','Original_COST','TIME_CUT_FIC','Data_Type_by_Drug']]\n",
    "Grant_code_CC=Grant_code_CC.drop_duplicates()\n",
    "\n",
    "\n",
    "Grant_code_CC['Years_from_app'] = Grant_code_CC['APY'].astype(int) - Grant_code_CC['TIME_CUT_FIC'].astype(int)\n",
    "Grant_code_CC['Pre_Approval_APY'] = Grant_code_CC['Years_from_app'] <= 0\n",
    "Grant_code_CC = Grant_code_CC[Grant_code_CC['Pre_Approval_APY'] == 1]\n",
    "Grant_code_CC = Grant_code_CC[Grant_code_CC['Years_from_app'] >= -12]\n",
    "\n",
    "Grant_code_CC=Grant_code_CC[['CC_ID','Years_from_app','Original_COST']]\n",
    "Grant_code_CC=Grant_code_CC.drop_duplicates()"
   ]
  },
  {
   "cell_type": "code",
   "execution_count": null,
   "id": "f155870d-2e6e-43bc-bfc4-8ebd7a7f2e1a",
   "metadata": {},
   "outputs": [],
   "source": []
  },
  {
   "cell_type": "code",
   "execution_count": 59,
   "id": "9d41a1d7-04c3-47fc-9d2f-7b2e6240d2a0",
   "metadata": {},
   "outputs": [],
   "source": [
    "Grant_code_CC=pd.pivot_table(Grant_code_CC,index='CC_ID',columns='Years_from_app',values='Original_COST', aggfunc='sum')\n",
    "Grant_code_CC=Grant_code_CC.fillna(0)"
   ]
  },
  {
   "cell_type": "code",
   "execution_count": 60,
   "id": "0cbb651f-82be-4a72-822b-f10d631b9258",
   "metadata": {},
   "outputs": [],
   "source": [
    "Grant_code_CC.to_csv('CC_CHECK.csv')"
   ]
  },
  {
   "cell_type": "code",
   "execution_count": 61,
   "id": "6d14e0a5-460f-4724-a3f6-40d44caad059",
   "metadata": {},
   "outputs": [],
   "source": [
    "Grant_code_CC=pd.read_csv('CC_CHECK.csv')"
   ]
  },
  {
   "cell_type": "code",
   "execution_count": 62,
   "id": "9c6c19df-71c2-4238-9ac8-108e6eaf1b5c",
   "metadata": {},
   "outputs": [],
   "source": [
    "Grant_code_CC=Grant_code_CC.merge(Grant_code_ID,how='inner')"
   ]
  },
  {
   "cell_type": "code",
   "execution_count": 63,
   "id": "9f8fea75-595a-46cd-a16f-891bf151a177",
   "metadata": {},
   "outputs": [],
   "source": [
    "Grant_code_CC.to_csv('CC_DEBUG.csv',index=None)"
   ]
  },
  {
   "cell_type": "code",
   "execution_count": 64,
   "id": "7ad30cbc-405a-41de-bb3d-ba9b7c43de24",
   "metadata": {},
   "outputs": [],
   "source": [
    "Grant_code_CC_Grouped = Grant_code_CC.groupby(['Brand_Name', 'Data_Type_by_Drug']).sum().reset_index()"
   ]
  },
  {
   "cell_type": "code",
   "execution_count": 65,
   "id": "75021557-a7d5-4178-82dc-3cafa258ec14",
   "metadata": {},
   "outputs": [],
   "source": [
    "def is_number(s):\n",
    "    try:\n",
    "        float(s)\n",
    "        return True\n",
    "    except ValueError:\n",
    "        return False\n",
    "\n",
    "\n",
    "year_cols = [col for col in Grant_code_CC_Grouped.columns if is_number(col)]\n",
    "sorted_cols = sorted(year_cols, key=float, reverse=True)  # Sorts 0, -1, -2...\n",
    "\n",
    "for col in sorted_cols:\n",
    "    Grant_code_CC_Grouped[col] = Grant_code_CC_Grouped[col].astype(int)\n",
    "Grant_code_CC_Grouped['Discount_Type']= 'Original'\n",
    "final_cols = ['Brand_Name', 'Data_Type_by_Drug','Discount_Type'] + sorted_cols\n",
    "Grant_code_CC_Grouped = Grant_code_CC_Grouped[final_cols]\n",
    "\n",
    "#Grant_code_CC_Grouped.to_csv('CC_10Drugs_Raw.csv',index=None)\n",
    "Grant_code_CC_Grouped_Raw=Grant_code_CC_Grouped.copy()"
   ]
  },
  {
   "cell_type": "code",
   "execution_count": null,
   "id": "4bb78c17-5677-4dce-bd96-899bd6ecd02c",
   "metadata": {},
   "outputs": [],
   "source": [
    "def modify_rightmost_column(df):\n",
    "    # Identify the rightmost column\n",
    "    rightmost_col = df.columns[-1]\n",
    "    \n",
    "    # Multiply all values in the rightmost column by 1 (Hand analysis for 10.5% or 3% as needed)\n",
    "    df[rightmost_col] *= 1\n",
    "    \n",
    "    return df\n",
    "\n",
    "df_modified = modify_rightmost_column(Grant_code_CC_Grouped)"
   ]
  },
  {
   "cell_type": "code",
   "execution_count": 67,
   "id": "bb431eef-89cd-4a62-b74a-e64818a245fe",
   "metadata": {},
   "outputs": [],
   "source": [
    "import pandas as pd\n",
    "\n",
    "def modify_adjacent_column(df, col_name):\n",
    "    # Identify the specified column and the one to its left\n",
    "    adjacent_col = df.columns[df.columns.get_loc(col_name) - 1]\n",
    "    \n",
    "    # Check if both columns are numeric\n",
    "    if pd.api.types.is_numeric_dtype(df[col_name]) and pd.api.types.is_numeric_dtype(df[adjacent_col]):\n",
    "        # For each row, add the value from the specified column to the value in the adjacent column, then multiply by 1.105\n",
    "        df[adjacent_col] = (df[adjacent_col] + df[col_name]) * 1\n",
    "    \n",
    "    return df\n",
    "\n",
    "def modify_until_discount(df):\n",
    "    # Begin with the column left of the rightmost column and move leftward until \"Discount_Type\"\n",
    "    col_index = len(df.columns) - 2  # Starting one column left of the rightmost column\n",
    "    while col_index > 0:  # Safety to ensure we don't go out of bounds\n",
    "        if df.columns[col_index] == \"Discount_Type\":\n",
    "            break\n",
    "        df = modify_adjacent_column(df, df.columns[col_index])\n",
    "        col_index -= 1\n",
    "\n",
    "    return df\n",
    "\n",
    "df_modified = modify_until_discount(df_modified)"
   ]
  },
  {
   "cell_type": "code",
   "execution_count": 68,
   "id": "b6a3c7a3-7249-4cdc-a543-1ad18346f4a8",
   "metadata": {},
   "outputs": [],
   "source": [
    "df_modified['Discount_Type'] =\"0%\""
   ]
  },
  {
   "cell_type": "code",
   "execution_count": 69,
   "id": "dc2a3a1d-089b-4148-9a14-306d29e2c55e",
   "metadata": {},
   "outputs": [],
   "source": [
    "df_modified=pd.concat([df_modified, Grant_code_CC_Grouped_Raw])"
   ]
  },
  {
   "cell_type": "code",
   "execution_count": 70,
   "id": "3772ef14-66c8-48ca-9d70-c0970bb24a74",
   "metadata": {},
   "outputs": [],
   "source": [
    "df_modified.sort_values(by='Brand_Name')\n",
    "df_modified.sort_values(by=['Discount_Type', 'Brand_Name'])\n",
    "df_modified.to_csv('CC_10Drugs_0%_HandCheck.csv',index=None)"
   ]
  },
  {
   "cell_type": "code",
   "execution_count": 72,
   "id": "636a77b7-422c-4139-915a-497e62ab3722",
   "metadata": {},
   "outputs": [],
   "source": [
    "Grant_code_FIC_RULE = Grant_code.loc[Grant_code['0_12_Year_Rule_FIC'] == 1]"
   ]
  },
  {
   "cell_type": "code",
   "execution_count": 73,
   "id": "7e1a97bd-6a87-48b8-b3da-767051ed05dc",
   "metadata": {},
   "outputs": [],
   "source": [
    "Grant_code_unique_COST = Grant_code_FIC_RULE.drop_duplicates(subset=['Brand_Name', 'Data_Type_by_Drug', 'ACTUAL_PROJECT_YEAR', 'APY_COST_inf2018'])\n",
    "\n",
    "result_COST = Grant_code_unique_COST.groupby(['Brand_Name', 'Data_Type_by_Drug'])['APY_COST_inf2018'].sum().reset_index()\n",
    "\n",
    "result_COST = result_COST.rename(columns={'APY_COST_inf2018':'COST_SUM'})"
   ]
  },
  {
   "cell_type": "code",
   "execution_count": 74,
   "id": "4e89f4f9-639d-4cc2-8a10-f1de697d3b4d",
   "metadata": {},
   "outputs": [],
   "source": [
    "Grant_code_unique_APY=Grant_code_FIC_RULE[['Brand_Name', 'Data_Type_by_Drug', 'ACTUAL_PROJECT_YEAR']]\n",
    "Grant_code_unique_APY=Grant_code_unique_APY.drop_duplicates()\n",
    "\n",
    "result_APY = Grant_code_unique_APY.groupby(['Brand_Name', 'Data_Type_by_Drug'])['ACTUAL_PROJECT_YEAR'].nunique().reset_index()\n",
    "result_APY.rename(columns={'ACTUAL_PROJECT_YEAR': 'Count_of_APY(0-12Year)'}, inplace=True)"
   ]
  },
  {
   "cell_type": "code",
   "execution_count": 75,
   "id": "931dd62c-1160-4a9c-8b9a-3d34163fdd42",
   "metadata": {},
   "outputs": [],
   "source": [
    "Grant_code_unique_PMID=Grant_code_FIC_RULE[['Brand_Name', 'Data_Type_by_PMID', 'PMID']]\n",
    "Grant_code_unique_PMID=Grant_code_unique_PMID.drop_duplicates()\n",
    "\n",
    "\n",
    "Grant_code_unique_PMID.rename(columns={'Data_Type_by_PMID': 'Data_Type_by_Drug'}, inplace=True)\n",
    "result_PMID = Grant_code_unique_PMID.groupby(['Brand_Name', 'Data_Type_by_Drug'])['PMID'].nunique().reset_index()\n",
    "result_PMID.rename(columns={'PMID': 'NIH_PMID(0_12Year)'}, inplace=True)\n",
    "\n",
    "\n",
    "result_Items = result_PMID.merge(result_APY, on=['Brand_Name', 'Data_Type_by_Drug'], how='left')\n",
    "Item_Cost_Overview_12_YEARS = result_Items.merge(result_COST, on=['Brand_Name', 'Data_Type_by_Drug'], how='left')\n",
    "\n",
    "Item_Cost_Overview_12_YEARS['COST_SUM_Mills']=Item_Cost_Overview_12_YEARS['COST_SUM']/1000000\n",
    "Item_Cost_Overview_12_YEARS.drop('COST_SUM', axis=1, inplace=True)"
   ]
  },
  {
   "cell_type": "code",
   "execution_count": 76,
   "id": "92d8ab44-d595-4882-b8e7-ce3b79cff078",
   "metadata": {},
   "outputs": [],
   "source": [
    "Grant_code_unique_COST = Grant_code.drop_duplicates(subset=['Brand_Name', 'Data_Type_by_Drug', 'ACTUAL_PROJECT_YEAR', 'APY_COST_inf2018'])\n",
    "\n",
    "result_COST = Grant_code_unique_COST.groupby(['Brand_Name', 'Data_Type_by_Drug'])['APY_COST_inf2018'].sum().reset_index()\n",
    "\n",
    "result_COST = result_COST.rename(columns={'APY_COST_inf2018':'COST_SUM'})\n",
    "\n",
    "Grant_code_unique_APY=Grant_code[['Brand_Name', 'Data_Type_by_Drug', 'ACTUAL_PROJECT_YEAR']]\n",
    "Grant_code_unique_APY=Grant_code_unique_APY.drop_duplicates()\n",
    "\n",
    "#Grant_code_unique_APY.rename(columns={'Data_Type_by_APY': 'Data_Type_by_Drug'}, inplace=True)\n",
    "\n",
    "result_APY = Grant_code_unique_APY.groupby(['Brand_Name', 'Data_Type_by_Drug'])['ACTUAL_PROJECT_YEAR'].nunique().reset_index()\n",
    "result_APY.rename(columns={'ACTUAL_PROJECT_YEAR': 'Count_of_APY(ALL_YEAR)'}, inplace=True)\n",
    "\n",
    "Grant_code_unique_PMID=Grant_code[['Brand_Name', 'Data_Type_by_PMID', 'PMID']]\n",
    "Grant_code_unique_PMID=Grant_code_unique_PMID.drop_duplicates()\n",
    "\n",
    "\n",
    "Grant_code_unique_PMID.rename(columns={'Data_Type_by_PMID': 'Data_Type_by_Drug'}, inplace=True)\n",
    "result_PMID = Grant_code_unique_PMID.groupby(['Brand_Name', 'Data_Type_by_Drug'])['PMID'].nunique().reset_index()\n",
    "result_PMID.rename(columns={'PMID': 'NIH_PMID(ALL_YEAR)'}, inplace=True)\n",
    "\n",
    "\n",
    "result_Items = result_PMID.merge(result_APY, on=['Brand_Name', 'Data_Type_by_Drug'], how='left')\n",
    "Item_Cost_Overview_ALL_YEARS = result_Items.merge(result_COST, on=['Brand_Name', 'Data_Type_by_Drug'], how='left')\n",
    "\n",
    "Item_Cost_Overview_ALL_YEARS['COST_SUM_Mills(ALL_YEAR)']=Item_Cost_Overview_ALL_YEARS['COST_SUM']/1000000\n",
    "Item_Cost_Overview_ALL_YEARS.drop('COST_SUM', axis=1, inplace=True)"
   ]
  },
  {
   "cell_type": "code",
   "execution_count": 77,
   "id": "73a9deb6-cc83-46f2-8089-344f8a2efa0d",
   "metadata": {},
   "outputs": [],
   "source": [
    "Item_Cost_Overview_ALL = Item_Cost_Overview_12_YEARS.merge(Item_Cost_Overview_ALL_YEARS, on=['Brand_Name', 'Data_Type_by_Drug'], how='inner')\n",
    "Item_Cost_Overview_ALL = PMID_DOWNLOADED_Analysis.merge(Item_Cost_Overview_ALL, on=['Brand_Name', 'Data_Type_by_Drug'], how='inner')"
   ]
  },
  {
   "cell_type": "code",
   "execution_count": 79,
   "id": "b480d43e-0fc5-499b-b7c1-3a94e2fe95ef",
   "metadata": {},
   "outputs": [],
   "source": [
    "Item_Cost_Overview_ALL['%_PMID_Funded(0_12)']=Item_Cost_Overview_ALL['NIH_PMID(0_12Year)']/Item_Cost_Overview_ALL['PMID_Downloaded']\n",
    "Item_Cost_Overview_ALL['%_PMID_Funded(ALL_YEAR)']=Item_Cost_Overview_ALL['NIH_PMID(ALL_YEAR)']/Item_Cost_Overview_ALL['PMID_Downloaded']"
   ]
  },
  {
   "cell_type": "code",
   "execution_count": 81,
   "id": "69d98df6-ae7e-4954-8e7f-e9446bab8c50",
   "metadata": {},
   "outputs": [],
   "source": [
    "Item_Cost_Overview_ALL.to_csv('Item_Cost_Overview.csv',index=None)\n",
    "os.remove('CC_CHECK.csv')"
   ]
  }
 ],
 "metadata": {
  "kernelspec": {
   "display_name": "Python 3 (ipykernel)",
   "language": "python",
   "name": "python3"
  },
  "language_info": {
   "codemirror_mode": {
    "name": "ipython",
    "version": 3
   },
   "file_extension": ".py",
   "mimetype": "text/x-python",
   "name": "python",
   "nbconvert_exporter": "python",
   "pygments_lexer": "ipython3",
   "version": "3.9.7"
  }
 },
 "nbformat": 4,
 "nbformat_minor": 5
}
